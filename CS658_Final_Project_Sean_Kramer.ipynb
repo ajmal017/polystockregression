{
  "nbformat": 4,
  "nbformat_minor": 0,
  "metadata": {
    "colab": {
      "name": "CS658 Final Project Sean Kramer.ipynb",
      "version": "0.3.2",
      "provenance": [],
      "collapsed_sections": []
    },
    "kernelspec": {
      "name": "python3",
      "display_name": "Python 3"
    }
  },
  "cells": [
    {
      "cell_type": "markdown",
      "metadata": {
        "id": "1I0Qs0hguk4F",
        "colab_type": "text"
      },
      "source": [
        "# **Install Alpaca and apscheduler**"
      ]
    },
    {
      "cell_type": "code",
      "metadata": {
        "id": "xjjtL_9Bue77",
        "colab_type": "code",
        "colab": {
          "base_uri": "https://localhost:8080/",
          "height": 544
        },
        "outputId": "491b46d2-500a-4257-e0f5-2fc21fa52cd5"
      },
      "source": [
        "!pip install alpaca_trade_api\n",
        "!pip install apscheduler"
      ],
      "execution_count": 1,
      "outputs": [
        {
          "output_type": "stream",
          "text": [
            "Collecting alpaca_trade_api\n",
            "  Downloading https://files.pythonhosted.org/packages/6a/91/f033d14f548e56cd81f551a7f0e09cf3543f7590a0e0bc7e692d9953bb86/alpaca_trade_api-0.28-py3-none-any.whl\n",
            "Collecting websockets (from alpaca_trade_api)\n",
            "\u001b[?25l  Downloading https://files.pythonhosted.org/packages/43/71/8bfa882b9c502c36e5c9ef6732969533670d2b039cbf95a82ced8f762b80/websockets-7.0-cp36-cp36m-manylinux1_x86_64.whl (63kB)\n",
            "\u001b[K     |████████████████████████████████| 71kB 8.8MB/s \n",
            "\u001b[?25hRequirement already satisfied: pandas in /usr/local/lib/python3.6/dist-packages (from alpaca_trade_api) (0.24.2)\n",
            "Requirement already satisfied: urllib3<1.25 in /usr/local/lib/python3.6/dist-packages (from alpaca_trade_api) (1.24.3)\n",
            "Requirement already satisfied: requests in /usr/local/lib/python3.6/dist-packages (from alpaca_trade_api) (2.21.0)\n",
            "Collecting asyncio-nats-client (from alpaca_trade_api)\n",
            "  Downloading https://files.pythonhosted.org/packages/94/b1/447e59f5b261c79772ae75d7c60952bc0d47e4402add3008ebfdf6d35b6f/asyncio-nats-client-0.9.0.tar.gz\n",
            "Collecting websocket-client (from alpaca_trade_api)\n",
            "\u001b[?25l  Downloading https://files.pythonhosted.org/packages/29/19/44753eab1fdb50770ac69605527e8859468f3c0fd7dc5a76dd9c4dbd7906/websocket_client-0.56.0-py2.py3-none-any.whl (200kB)\n",
            "\u001b[K     |████████████████████████████████| 204kB 14.8MB/s \n",
            "\u001b[?25hRequirement already satisfied: numpy>=1.12.0 in /usr/local/lib/python3.6/dist-packages (from pandas->alpaca_trade_api) (1.16.3)\n",
            "Requirement already satisfied: pytz>=2011k in /usr/local/lib/python3.6/dist-packages (from pandas->alpaca_trade_api) (2018.9)\n",
            "Requirement already satisfied: python-dateutil>=2.5.0 in /usr/local/lib/python3.6/dist-packages (from pandas->alpaca_trade_api) (2.5.3)\n",
            "Requirement already satisfied: certifi>=2017.4.17 in /usr/local/lib/python3.6/dist-packages (from requests->alpaca_trade_api) (2019.3.9)\n",
            "Requirement already satisfied: chardet<3.1.0,>=3.0.2 in /usr/local/lib/python3.6/dist-packages (from requests->alpaca_trade_api) (3.0.4)\n",
            "Requirement already satisfied: idna<2.9,>=2.5 in /usr/local/lib/python3.6/dist-packages (from requests->alpaca_trade_api) (2.8)\n",
            "Requirement already satisfied: six in /usr/local/lib/python3.6/dist-packages (from websocket-client->alpaca_trade_api) (1.12.0)\n",
            "Building wheels for collected packages: asyncio-nats-client\n",
            "  Building wheel for asyncio-nats-client (setup.py) ... \u001b[?25l\u001b[?25hdone\n",
            "  Stored in directory: /root/.cache/pip/wheels/ad/f3/94/a1870dd76b1c335e6180ff67d6ab8deb236004e45682814369\n",
            "Successfully built asyncio-nats-client\n",
            "Installing collected packages: websockets, asyncio-nats-client, websocket-client, alpaca-trade-api\n",
            "Successfully installed alpaca-trade-api-0.28 asyncio-nats-client-0.9.0 websocket-client-0.56.0 websockets-7.0\n",
            "Requirement already satisfied: apscheduler in /usr/local/lib/python3.6/dist-packages (3.6.0)\n",
            "Requirement already satisfied: pytz in /usr/local/lib/python3.6/dist-packages (from apscheduler) (2018.9)\n",
            "Requirement already satisfied: tzlocal>=1.2 in /usr/local/lib/python3.6/dist-packages (from apscheduler) (1.5.1)\n",
            "Requirement already satisfied: setuptools>=0.7 in /usr/local/lib/python3.6/dist-packages (from apscheduler) (41.0.1)\n",
            "Requirement already satisfied: six>=1.4.0 in /usr/local/lib/python3.6/dist-packages (from apscheduler) (1.12.0)\n"
          ],
          "name": "stdout"
        }
      ]
    },
    {
      "cell_type": "markdown",
      "metadata": {
        "id": "wbHfS5aGuxe5",
        "colab_type": "text"
      },
      "source": [
        "# **Imports**"
      ]
    },
    {
      "cell_type": "code",
      "metadata": {
        "id": "3sj6FlLSuyxA",
        "colab_type": "code",
        "colab": {}
      },
      "source": [
        "# Mass Imports\n",
        "import datetime\n",
        "import operator\n",
        "import csv\n",
        "\n",
        "import alpaca_trade_api as tradeapi\n",
        "import pandas as pd\n",
        "import numpy as np\n",
        "import time as time\n",
        "import sklearn.model_selection as ms\n",
        "import matplotlib.pyplot as plt\n",
        "%matplotlib inline\n",
        "\n",
        "# Specific Imports\n",
        "from apscheduler.schedulers.background import BackgroundScheduler\n",
        "from sklearn.linear_model import LinearRegression\n",
        "from sklearn.metrics import mean_squared_error, r2_score\n",
        "from sklearn.preprocessing import PolynomialFeatures"
      ],
      "execution_count": 0,
      "outputs": []
    },
    {
      "cell_type": "markdown",
      "metadata": {
        "id": "-oeTgw4hu3b0",
        "colab_type": "text"
      },
      "source": [
        "# **Connect Google Drive**"
      ]
    },
    {
      "cell_type": "code",
      "metadata": {
        "id": "IMG3cFvyu2f-",
        "colab_type": "code",
        "colab": {
          "base_uri": "https://localhost:8080/",
          "height": 122
        },
        "outputId": "3cfff260-5c33-4394-c5fa-0dd1fd6d81f0"
      },
      "source": [
        "# Load the Drive helper and mount\n",
        "from google.colab import drive\n",
        "drive.mount('/content/drive')"
      ],
      "execution_count": 3,
      "outputs": [
        {
          "output_type": "stream",
          "text": [
            "Go to this URL in a browser: https://accounts.google.com/o/oauth2/auth?client_id=947318989803-6bn6qk8qdgf4n4g3pfee6491hc0brc4i.apps.googleusercontent.com&redirect_uri=urn%3Aietf%3Awg%3Aoauth%3A2.0%3Aoob&scope=email%20https%3A%2F%2Fwww.googleapis.com%2Fauth%2Fdocs.test%20https%3A%2F%2Fwww.googleapis.com%2Fauth%2Fdrive%20https%3A%2F%2Fwww.googleapis.com%2Fauth%2Fdrive.photos.readonly%20https%3A%2F%2Fwww.googleapis.com%2Fauth%2Fpeopleapi.readonly&response_type=code\n",
            "\n",
            "Enter your authorization code:\n",
            "··········\n",
            "Mounted at /content/drive\n"
          ],
          "name": "stdout"
        }
      ]
    },
    {
      "cell_type": "markdown",
      "metadata": {
        "id": "_WAd1x8_vCn1",
        "colab_type": "text"
      },
      "source": [
        "# **Load CSV Data**"
      ]
    },
    {
      "cell_type": "code",
      "metadata": {
        "id": "lERcVSYau8Cr",
        "colab_type": "code",
        "colab": {}
      },
      "source": [
        "# Path Variables\n",
        "path01 = \"drive/My Drive/658Project/AAPL_6M_2004_6_1MIN.csv\"\n",
        "path02 = \"drive/My Drive/658Project/AAPL_6M_2004_12_1MIN.csv\"\n",
        "path03 = \"drive/My Drive/658Project/AAPL_6M_2005_6_1MIN.csv\"\n",
        "path04 = \"drive/My Drive/658Project/AAPL_6M_2005_12_1MIN.csv\"\n",
        "path05 = \"drive/My Drive/658Project/AAPL_6M_2006_6_1MIN.csv\"\n",
        "path06 = \"drive/My Drive/658Project/AAPL_6M_2006_12_1MIN.csv\"\n",
        "path07 = \"drive/My Drive/658Project/AAPL_6M_2007_6_1MIN.csv\"\n",
        "path08 = \"drive/My Drive/658Project/AAPL_6M_2007_12_1MIN.csv\"\n",
        "path09 = \"drive/My Drive/658Project/AAPL_6M_2008_6_1MIN.csv\"\n",
        "path10 = \"drive/My Drive/658Project/AAPL_6M_2008_12_1MIN.csv\"\n",
        "path11 = \"drive/My Drive/658Project/AAPL_6M_2009_6_1MIN.csv\"\n",
        "path12 = \"drive/My Drive/658Project/AAPL_6M_2009_12_1MIN.csv\"\n",
        "path13 = \"drive/My Drive/658Project/AAPL_6M_2010_6_1MIN.csv\"\n",
        "path14 = \"drive/My Drive/658Project/AAPL_6M_2010_12_1MIN.csv\"\n",
        "path15 = \"drive/My Drive/658Project/AAPL_6M_2011_6_1MIN.csv\"\n",
        "path16 = \"drive/My Drive/658Project/AAPL_6M_2011_12_1MIN.csv\"\n",
        "path17 = \"drive/My Drive/658Project/AAPL_6M_2012_6_1MIN.csv\"\n",
        "path18 = \"drive/My Drive/658Project/AAPL_6M_2012_12_1MIN.csv\"\n",
        "path19 = \"drive/My Drive/658Project/AAPL_6M_2013_6_1MIN.csv\"\n",
        "path20 = \"drive/My Drive/658Project/AAPL_6M_2013_12_1MIN.csv\"\n",
        "path21 = \"drive/My Drive/658Project/AAPL_6M_2014_6_1MIN.csv\"\n",
        "path22 = \"drive/My Drive/658Project/AAPL_6M_2014_12_1MIN.csv\"\n",
        "path23 = \"drive/My Drive/658Project/AAPL_6M_2015_6_1MIN.csv\"\n",
        "path24 = \"drive/My Drive/658Project/AAPL_6M_2015_12_1MIN.csv\"\n",
        "path25 = \"drive/My Drive/658Project/AAPL_6M_2016_6_1MIN.csv\"\n",
        "path26 = \"drive/My Drive/658Project/AAPL_6M_2016_12_1MIN.csv\"\n",
        "path27 = \"drive/My Drive/658Project/AAPL_6M_2017_6_1MIN.csv\"\n",
        "path28 = \"drive/My Drive/658Project/AAPL_6M_2017_12_1MIN.csv\"\n",
        "path29 = \"drive/My Drive/658Project/AAPL_6M_2018_6_1MIN.csv\"\n",
        "path30 = \"drive/My Drive/658Project/AAPL_6M_2018_12_1MIN.csv\"\n",
        "path31 = \"drive/My Drive/658Project/AAPL_6M_2019_6_1MIN.csv\"\n",
        "newHistoricalDataPath = \"drive/My Drive/658Project/newHistoricalData.csv\""
      ],
      "execution_count": 0,
      "outputs": []
    },
    {
      "cell_type": "code",
      "metadata": {
        "id": "jFH8X9DKvIqd",
        "colab_type": "code",
        "colab": {}
      },
      "source": [
        "# Data Files\n",
        "csvList = []\n",
        "csv01 = pd.read_csv(path01, parse_dates=['Date'])\n",
        "csvList.append(csv01)\n",
        "csv02 = pd.read_csv(path02, parse_dates=['Date'])\n",
        "csvList.append(csv02)\n",
        "csv03 = pd.read_csv(path03, parse_dates=['Date'])\n",
        "csvList.append(csv03)\n",
        "csv04 = pd.read_csv(path04, parse_dates=['Date'])\n",
        "csvList.append(csv04)\n",
        "csv05 = pd.read_csv(path05, parse_dates=['Date'])\n",
        "csvList.append(csv05)\n",
        "csv06 = pd.read_csv(path06, parse_dates=['Date'])\n",
        "csvList.append(csv06)\n",
        "csv07 = pd.read_csv(path07, parse_dates=['Date'])\n",
        "csvList.append(csv07)\n",
        "csv08 = pd.read_csv(path08, parse_dates=['Date'])\n",
        "csvList.append(csv08)\n",
        "csv09 = pd.read_csv(path09, parse_dates=['Date'])\n",
        "csvList.append(csv09)\n",
        "csv10 = pd.read_csv(path10, parse_dates=['Date'])\n",
        "csvList.append(csv10)\n",
        "csv11 = pd.read_csv(path11, parse_dates=['Date'])\n",
        "csvList.append(csv11)\n",
        "csv12 = pd.read_csv(path12, parse_dates=['Date'])\n",
        "csvList.append(csv12)\n",
        "csv13 = pd.read_csv(path13, parse_dates=['Date'])\n",
        "csvList.append(csv13)\n",
        "csv14 = pd.read_csv(path14, parse_dates=['Date'])\n",
        "csvList.append(csv14)\n",
        "csv15 = pd.read_csv(path15, parse_dates=['Date'])\n",
        "csvList.append(csv15)\n",
        "csv16 = pd.read_csv(path16, parse_dates=['Date'])\n",
        "csvList.append(csv16)\n",
        "csv17 = pd.read_csv(path17, parse_dates=['Date'])\n",
        "csvList.append(csv17)\n",
        "csv18 = pd.read_csv(path18, parse_dates=['Date'])\n",
        "csvList.append(csv18)\n",
        "csv19 = pd.read_csv(path19, parse_dates=['Date'])\n",
        "csvList.append(csv19)\n",
        "csv20 = pd.read_csv(path20, parse_dates=['Date'])\n",
        "csvList.append(csv20)\n",
        "csv21 = pd.read_csv(path21, parse_dates=['Date'])\n",
        "csvList.append(csv21)\n",
        "csv22 = pd.read_csv(path22, parse_dates=['Date'])\n",
        "csvList.append(csv22)\n",
        "csv23 = pd.read_csv(path23, parse_dates=['Date'])\n",
        "csvList.append(csv23)\n",
        "csv24 = pd.read_csv(path24, parse_dates=['Date'])\n",
        "csvList.append(csv24)\n",
        "csv25 = pd.read_csv(path25, parse_dates=['Date'])\n",
        "csvList.append(csv25)\n",
        "csv26 = pd.read_csv(path26, parse_dates=['Date'])\n",
        "csvList.append(csv26)\n",
        "csv27 = pd.read_csv(path27, parse_dates=['Date'])\n",
        "csvList.append(csv27)\n",
        "csv28 = pd.read_csv(path28, parse_dates=['Date'])\n",
        "csvList.append(csv28)\n",
        "csv29 = pd.read_csv(path29, parse_dates=['Date'])\n",
        "csvList.append(csv29)\n",
        "csv30 = pd.read_csv(path30, parse_dates=['Date'])\n",
        "csvList.append(csv30)\n",
        "csv31 = pd.read_csv(path31, parse_dates=['Date'])\n",
        "csvList.append(csv31)"
      ],
      "execution_count": 0,
      "outputs": []
    },
    {
      "cell_type": "code",
      "metadata": {
        "id": "_3oIUVstvKOn",
        "colab_type": "code",
        "colab": {}
      },
      "source": [
        "# Combine Data Files\n",
        "rawData = pd.concat(csvList)"
      ],
      "execution_count": 0,
      "outputs": []
    },
    {
      "cell_type": "code",
      "metadata": {
        "id": "EioDjr_JvMLY",
        "colab_type": "code",
        "colab": {}
      },
      "source": [
        "# Create Historical Data File Header\n",
        "header = [['Date', 'Open', 'High', 'Low', 'Close', 'Volume']]\n",
        "\n",
        "# Create Historical Data File\n",
        "with open(newHistoricalDataPath, 'w') as fs:\n",
        "  writer = csv.writer(fs)\n",
        "  writer.writerows(header)\n",
        "\n",
        "# Close Historical Data File\n",
        "fs.close()"
      ],
      "execution_count": 0,
      "outputs": []
    },
    {
      "cell_type": "markdown",
      "metadata": {
        "id": "H8TA8DXMwy3Z",
        "colab_type": "text"
      },
      "source": [
        "# **Format Data**"
      ]
    },
    {
      "cell_type": "code",
      "metadata": {
        "id": "byB8MhSJwgka",
        "colab_type": "code",
        "colab": {}
      },
      "source": [
        "# Get rid of weighted average and trades, not used in this application\n",
        "del rawData['Avg']\n",
        "del rawData['Trades']"
      ],
      "execution_count": 0,
      "outputs": []
    },
    {
      "cell_type": "code",
      "metadata": {
        "id": "iIkGkk6ixCNf",
        "colab_type": "code",
        "colab": {}
      },
      "source": [
        "# Re-order columns to match Alpaca ordering for easier model use later\n",
        "orderedData = rawData[['Close', 'Date', 'Open', 'High', 'Low', 'Volume']]"
      ],
      "execution_count": 0,
      "outputs": []
    },
    {
      "cell_type": "code",
      "metadata": {
        "id": "k7V1KzLLx52c",
        "colab_type": "code",
        "colab": {
          "base_uri": "https://localhost:8080/",
          "height": 119
        },
        "outputId": "f0085d70-507a-4e20-b8c0-23d1009ccbea"
      },
      "source": [
        "# Create Feature and Stock Data\n",
        "# Feature data will be date, high, low, open, trades, and volume\n",
        "# Stock data will be close since it's most important\n",
        "featureData = orderedData[['Date', 'Open', 'High', 'Low', 'Volume']]\n",
        "stockData = orderedData[['Close']]\n",
        "\n",
        "# Convert datetime to float\n",
        "featureData['Date'] = featureData['Date'].apply(lambda x: x.timestamp())"
      ],
      "execution_count": 13,
      "outputs": [
        {
          "output_type": "stream",
          "text": [
            "/usr/local/lib/python3.6/dist-packages/ipykernel_launcher.py:5: SettingWithCopyWarning: \n",
            "A value is trying to be set on a copy of a slice from a DataFrame.\n",
            "Try using .loc[row_indexer,col_indexer] = value instead\n",
            "\n",
            "See the caveats in the documentation: http://pandas.pydata.org/pandas-docs/stable/indexing.html#indexing-view-versus-copy\n",
            "  \"\"\"\n"
          ],
          "name": "stderr"
        }
      ]
    },
    {
      "cell_type": "markdown",
      "metadata": {
        "id": "iMNiY-jhx-Po",
        "colab_type": "text"
      },
      "source": [
        "# **Split Train and Test Data**"
      ]
    },
    {
      "cell_type": "code",
      "metadata": {
        "id": "ZwFlUWeex8WI",
        "colab_type": "code",
        "colab": {}
      },
      "source": [
        "# Split data in 50/50 parts for train and test\n",
        "featureSplits = np.array_split(featureData, 2)\n",
        "stockSplits = np.array_split(stockData, 2)\n",
        "\n",
        "# Assign X_train, y_train, X_test, and y_test\n",
        "X_train = featureSplits[0]\n",
        "X_test = featureSplits[1]\n",
        "y_train = stockSplits[0]\n",
        "y_test = stockSplits[1]\n",
        "\n",
        "# Assign to numpy arrays\n",
        "X_train = np.array(X_train)\n",
        "y_train = np.array(y_train)\n",
        "X_test = np.array(X_test)\n",
        "y_test = np.array(y_test)\n",
        "\n",
        "# Get n values for future use\n",
        "n = X_train.shape[0]"
      ],
      "execution_count": 0,
      "outputs": []
    },
    {
      "cell_type": "markdown",
      "metadata": {
        "id": "q-OeMNJXyFJ2",
        "colab_type": "text"
      },
      "source": [
        "# **Convert Features to Polynomial Representation**"
      ]
    },
    {
      "cell_type": "code",
      "metadata": {
        "id": "nCPpx6MGyDaJ",
        "colab_type": "code",
        "colab": {}
      },
      "source": [
        "# Use built in functions\n",
        "# 3rd degree -- 77% Test Accuracy\n",
        "# 4th degree -- 16% Test Accuracy\n",
        "# 2nd degree -- 96% Test Accuracy\n",
        "polynomial_features = PolynomialFeatures(degree=2)\n",
        "X_train_p = polynomial_features.fit_transform(X_train)\n",
        "X_test_p = polynomial_features.fit_transform(X_test)"
      ],
      "execution_count": 0,
      "outputs": []
    },
    {
      "cell_type": "markdown",
      "metadata": {
        "id": "CqTrW6UGyL0Z",
        "colab_type": "text"
      },
      "source": [
        "# **Polynomial Regression Model**"
      ]
    },
    {
      "cell_type": "code",
      "metadata": {
        "id": "z6DOJSdGyKmD",
        "colab_type": "code",
        "colab": {
          "base_uri": "https://localhost:8080/",
          "height": 466
        },
        "outputId": "0d8ca640-6e7e-433b-cc2a-6f15df255021"
      },
      "source": [
        "# Train model on data\n",
        "model = LinearRegression()\n",
        "model.fit(X_train_p, y_train)\n",
        "\n",
        "# Check training data for accuracy\n",
        "y_train_pred = model.predict(X_train_p)\n",
        "\n",
        "# Calculate Accuracy\n",
        "rmse = np.sqrt(mean_squared_error(y_train,y_train_pred))\n",
        "r2 = r2_score(y_train,y_train_pred)\n",
        "print(rmse)\n",
        "print(r2)\n",
        "\n",
        "# Graph Results\n",
        "fig = plt.figure(figsize=(20,7))\n",
        "plt.plot(range(0,n),y_train, c='blue')\n",
        "plt.plot(range(0,n),y_train_pred,c='red')\n",
        "plt.show()"
      ],
      "execution_count": 16,
      "outputs": [
        {
          "output_type": "stream",
          "text": [
            "0.0891313978708115\n",
            "0.9999590922072575\n"
          ],
          "name": "stdout"
        },
        {
          "output_type": "display_data",
          "data": {
            "image/png": "[encoded data removed]",
            "text/plain": [
              "<Figure size 1440x504 with 1 Axes>"
            ]
          },
          "metadata": {
            "tags": []
          }
        }
      ]
    },
    {
      "cell_type": "markdown",
      "metadata": {
        "id": "E9-YTaK_yTHM",
        "colab_type": "text"
      },
      "source": [
        "# **Polynomial Regression Validation Data**"
      ]
    },
    {
      "cell_type": "code",
      "metadata": {
        "id": "PEoD-YLIyQsS",
        "colab_type": "code",
        "colab": {
          "base_uri": "https://localhost:8080/",
          "height": 483
        },
        "outputId": "97b17be8-8a41-4321-ae1e-6c0a76e42a12"
      },
      "source": [
        "# Check testing data for accuracy\n",
        "y_test_pred = model.predict(X_test_p)\n",
        "\n",
        "print(y_test_pred[y_test_pred.size-1])\n",
        "\n",
        "# Calculate accuracy\n",
        "rmse = np.sqrt(mean_squared_error(y_test,y_test_pred))\n",
        "r2 = r2_score(y_test,y_test_pred)\n",
        "print(rmse)\n",
        "print(r2)\n",
        "\n",
        "# Graph Results\n",
        "fig = plt.figure(figsize=(20,7))\n",
        "plt.plot(range(n,2*n),y_test, c='blue')\n",
        "plt.plot(range(n,2*n), y_test_pred, c='red')\n",
        "plt.show()"
      ],
      "execution_count": 17,
      "outputs": [
        {
          "output_type": "stream",
          "text": [
            "[174.47131504]\n",
            "7.743687892989993\n",
            "0.967033104037464\n"
          ],
          "name": "stdout"
        },
        {
          "output_type": "display_data",
          "data": {
            "image/png": "[encoded data removed]",
            "text/plain": [
              "<Figure size 1440x504 with 1 Axes>"
            ]
          },
          "metadata": {
            "tags": []
          }
        }
      ]
    },
    {
      "cell_type": "markdown",
      "metadata": {
        "id": "FAk_5XQKy62G",
        "colab_type": "text"
      },
      "source": [
        "# **Setup Alpaca API**"
      ]
    },
    {
      "cell_type": "code",
      "metadata": {
        "id": "7g8_YH5ryWyw",
        "colab_type": "code",
        "colab": {}
      },
      "source": [
        "api = tradeapi.REST(\n",
        "  key_id='PK9CLKJ7ADR68H57IIT1',\n",
        "  secret_key='5hSlFYvqe8qAALViFiUZrPxkc2pNZvblb3txwUXH',\n",
        "  base_url='https://paper-api.alpaca.markets'\n",
        ")"
      ],
      "execution_count": 0,
      "outputs": []
    },
    {
      "cell_type": "markdown",
      "metadata": {
        "id": "8Q_vtF-Tzm4N",
        "colab_type": "text"
      },
      "source": [
        "# **Historical Data Collection Function**"
      ]
    },
    {
      "cell_type": "code",
      "metadata": {
        "id": "Cgu6PfonzEcG",
        "colab_type": "code",
        "colab": {}
      },
      "source": [
        "# Store market data when the market is open\n",
        "def collectHistorical():\n",
        "  # Get current time\n",
        "  clock = api.get_clock()\n",
        "  \n",
        "  # Check if market is open\n",
        "  if clock.is_open:\n",
        "    \n",
        "    # Collect Data\n",
        "    currentData = list(api.get_barset('AAPL', 'minute', limit=1)['AAPL'][0].__dict__['_raw'].values())\n",
        "    \n",
        "    # Write to CSV\n",
        "    with open(newHistoricalDataPath, 'a') as fs:\n",
        "      writer = csv.writer(fs)\n",
        "      writer.writerow(currentData)\n",
        "      \n",
        "    # Close CSV\n",
        "    fs.close()"
      ],
      "execution_count": 0,
      "outputs": []
    },
    {
      "cell_type": "markdown",
      "metadata": {
        "id": "5UHWyOAb1J9W",
        "colab_type": "text"
      },
      "source": [
        "# **Portfolio Management Function**"
      ]
    },
    {
      "cell_type": "code",
      "metadata": {
        "id": "Kaa_0yOJ0uvY",
        "colab_type": "code",
        "colab": {}
      },
      "source": [
        "# Manage an AAPL portfolio\n",
        "def AAPLmanagement():\n",
        "  \n",
        "  # Get current time\n",
        "  clock = api.get_clock()\n",
        "  \n",
        "  # Check if market is open\n",
        "  if clock.is_open:\n",
        "    \n",
        "    # Get account information\n",
        "    buyingPower = api.get_account().buying_power\n",
        "\n",
        "    # Pad buying power by 10%, never wanna lose alll the money\n",
        "    buyingPower = float(buyingPower)*0.9\n",
        "\n",
        "\n",
        "    # Get data from Alpaca\n",
        "    curData = list(api.get_barset('AAPL', 'minute', limit=1)['AAPL'][0].__dict__['_raw'].values())\n",
        "\n",
        "    # Predict close value\n",
        "    actClose = curData[4]\n",
        "    curData = np.array(curData)\n",
        "    curData = np.delete(curData, [4])\n",
        "\n",
        "    curData_poly = polynomial_features.fit_transform(curData.reshape(1, -1))\n",
        "    predClose = model.predict(curData_poly)\n",
        "\n",
        "    # Append prediction to historical list\n",
        "    prediction = (curData[0], predClose)\n",
        "    predictionHistory.append(prediction)\n",
        "\n",
        "    # Calculate buying power\n",
        "    maxBuy = np.floor(buyingPower/actClose)\n",
        "\n",
        "    # Decide if it should buy, sell, or hold\n",
        "    if len(predictionHistory) == 1:\n",
        "      # Buy original shares price doesn't matter\n",
        "      api.submit_order(symbol = 'AAPL',\n",
        "                  qty = maxBuy,\n",
        "                  side = 'buy',\n",
        "                  type = 'market',\n",
        "                  time_in_force='day')\n",
        "    else:\n",
        "      # Check previous prediction vs. current\n",
        "      difference = predictionHistory[len(predictionHistory)-2][1] - predictionHistory[len(predictionHistory)-1][1]\n",
        "\n",
        "      if (difference == 0):\n",
        "        if len(api.list_positions()) == 0:\n",
        "          api.submit_order(symbol = 'AAPL',\n",
        "                  qty = maxBuy,\n",
        "                  side = 'buy',\n",
        "                  type = 'market',\n",
        "                  time_in_force='day')\n",
        "        else:\n",
        "          return\n",
        "      else:\n",
        "        if len(api.list_positions()) == 0:\n",
        "          if difference > 0:\n",
        "            api.submit_order(symbol = 'AAPL',\n",
        "                  qty = maxBuy,\n",
        "                  side = 'sell',\n",
        "                  type = 'market',\n",
        "                  time_in_force='day')\n",
        "          else:\n",
        "            api.submit_order(symbol = 'AAPL',\n",
        "                  qty = maxBuy,\n",
        "                  side = 'buy',\n",
        "                  type = 'market',\n",
        "                  time_in_force='day')\n",
        "        else:\n",
        "          lastOrder = api.list_positions()\n",
        "          lastSide = lastOrder[0].side\n",
        "          if lastSide == 'long':\n",
        "            if difference > 0:\n",
        "              return\n",
        "            else:\n",
        "              api.submit_order(symbol = 'AAPL',\n",
        "                    qty = lastOrder[0].qty,\n",
        "                    side = 'sell',\n",
        "                    type = 'market',\n",
        "                    time_in_force='day')\n",
        "          else:\n",
        "            if difference > 0:\n",
        "              api.submit_order(symbol = 'AAPL',\n",
        "                    qty = maxBuy,\n",
        "                    side = 'buy',\n",
        "                    type = 'market',\n",
        "                    time_in_force='day')\n",
        "            else:\n",
        "              return"
      ],
      "execution_count": 0,
      "outputs": []
    },
    {
      "cell_type": "markdown",
      "metadata": {
        "id": "EwJKCUep11aQ",
        "colab_type": "text"
      },
      "source": [
        "# **Schedule Jobs**"
      ]
    },
    {
      "cell_type": "code",
      "metadata": {
        "id": "HG6ZrZ7Z1aBQ",
        "colab_type": "code",
        "colab": {}
      },
      "source": [
        "# Build background scheduler\n",
        "scheduler = BackgroundScheduler()\n",
        "\n",
        "# Start scheduler\n",
        "scheduler.start()\n",
        "\n",
        "# Add historical data job every minute\n",
        "dataJob = scheduler.add_job(collectHistorical, trigger='cron', second=0)\n",
        "\n",
        "# Add portfolio management job every 59th second\n",
        "AAPLJob = scheduler.add_job(AAPLmanagement, trigger='cron', second=59)"
      ],
      "execution_count": 0,
      "outputs": []
    },
    {
      "cell_type": "code",
      "metadata": {
        "id": "5u3Ap_cC2cKn",
        "colab_type": "code",
        "colab": {
          "base_uri": "https://localhost:8080/",
          "height": 68
        },
        "outputId": "387fd430-253b-4e63-f7d4-bb6efc15478c"
      },
      "source": [
        "# View Current jobs\n",
        "scheduler.print_jobs()"
      ],
      "execution_count": 26,
      "outputs": [
        {
          "output_type": "stream",
          "text": [
            "Jobstore default:\n",
            "    AAPLmanagement (trigger: cron[second='59'], next run at: 2019-05-16 04:15:59 UTC)\n",
            "    collectHistorical (trigger: cron[second='0'], next run at: 2019-05-16 04:16:00 UTC)\n"
          ],
          "name": "stdout"
        }
      ]
    },
    {
      "cell_type": "code",
      "metadata": {
        "id": "OpzRwIsy2hQn",
        "colab_type": "code",
        "colab": {}
      },
      "source": [
        ""
      ],
      "execution_count": 0,
      "outputs": []
    }
  ]
}